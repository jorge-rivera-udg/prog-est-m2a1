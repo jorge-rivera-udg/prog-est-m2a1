{
  "nbformat": 4,
  "nbformat_minor": 0,
  "metadata": {
    "colab": {
      "provenance": [],
      "toc_visible": true,
      "authorship_tag": "ABX9TyNZ4xffQTRQWJhNyrT4MhNc",
      "include_colab_link": true
    },
    "kernelspec": {
      "name": "python3",
      "display_name": "Python 3"
    },
    "language_info": {
      "name": "python"
    }
  },
  "cells": [
    {
      "cell_type": "markdown",
      "metadata": {
        "id": "view-in-github",
        "colab_type": "text"
      },
      "source": [
        "<a href=\"https://colab.research.google.com/github/jorge-rivera-udg/prog-est-m2a1/blob/main/M2A1.ipynb\" target=\"_parent\"><img src=\"https://colab.research.google.com/assets/colab-badge.svg\" alt=\"Open In Colab\"/></a>"
      ]
    },
    {
      "cell_type": "markdown",
      "source": [
        "# Programación estructurada M2A1"
      ],
      "metadata": {
        "id": "i70qtdwM79yH"
      }
    },
    {
      "cell_type": "markdown",
      "source": [
        "### Ejercicio 01. Costo llamada"
      ],
      "metadata": {
        "id": "4A37eZW83uVc"
      }
    },
    {
      "cell_type": "markdown",
      "source": [
        "```\n",
        "\"\"\"\n",
        "La política de cobro de una compañía telefónica es: cuando se realiza una llamada, el cobro es por el tiempo que ésta dura,\n",
        "de tal forma que los primeros cinco minutos cuestan 1 euro, los siguientes tres, 80 céntimos, los siguientes dos minutos,\n",
        "70 céntimos, y a partir del décimo minuto, 50 céntimos. Además, se carga un impuesto de 3 % cuando es domingo, y si es otro día,\n",
        "en turno de mañana, 15 %, y en turno de tarde, 10 %. Realice un algoritmo para determinar cuánto debe pagar por cada concepto\n",
        "una persona que realiza una llamada.\n",
        "\"\"\"\n",
        "\n",
        " 1.- Inicio\n",
        " 2.- Inicializar variables\n",
        "    2.1.- costo = 0\n",
        "    2.2.- llamadaLarga = falso\n",
        "    2.3.- llamada10 = falso\n",
        "    2.4.- llamada8 = falso\n",
        "    2.5.- llamada5 = falso\n",
        "    2.6.- impuesto = 0.0\n",
        "    2.7.- domingo = falso\n",
        "    2.8.- manana = falso\n",
        "    2.9.- tarde = falso\n",
        "    2.10.- tiempo = 0\n",
        "    2.11.- hora = 0\n",
        " 3.- Obtener la fecha del sistema\n",
        " 4.- Obtener la hora a partir de la fecha en modo 24Hrs\n",
        " 5.- Obtener el tiempo de la llamada -> tiempo\n",
        " 6.- Si tiempo mayor a 10 minutos:\n",
        "    6.1.- asignar a costo 1 + 0.8 + 0.7 + 0.5\n",
        "    6.2.- asignar verdadero a llamadaLarga, llamada10, llamada8 y llamada5\n",
        " 7.- Si tiempo mayor a 8 minutos:\n",
        "    7.1.- asignar a costo 1 + 0.8 + 0.7\n",
        "    7.2.- asignar verdadero a llamada10, llamada8 y llamada5\n",
        " 8.- Si tiempo mayor a 5 minutos:\n",
        "    8.1.- asignar a costo 1 + 0.8\n",
        "    8.2.- asignar verdadero a llamada8 y llamada5\n",
        " 9.- Otro caso:\n",
        "    9.1.- asignar a costo 1\n",
        "    9.2.- asignar verdadero a llamada5\n",
        "10.- Obtener el dia de la semana de la fecha\n",
        "11.- Si dia de la semana es domingo:\n",
        "    11.1.- asignar verdaderoa domingo\n",
        "    11.2.- asignar a impuesto = costo*0.03\n",
        "12.- Otro caso:\n",
        "    12.1.- Si la hora es menor a 12\n",
        "        12.1.1.- asignar verdadero a manana\n",
        "        12.1.2.- asignar a impuesto = costo*0.15\n",
        "    12.2.- Otro caso:\n",
        "        12.2.1.- asignar verdadero a tarde\n",
        "        12.2.2.- asignar a impuesto = costo*0.1\n",
        "13.- Si llamadaLarga es verdadero:\n",
        "    13.1.- imprime \"Costo de llamada despues de 10 minutos: 50 ¢\"\n",
        "14.- Si llamada10 es verdadero:\n",
        "    14.1.- imprime \"Costo de llamada de 8 a 10 minutos: 70 ¢\"\n",
        "15.- Si llamada8 es verdadero:\n",
        "    15.1.- imprime \"Costo de llamada de 5 a 8 minutos: 80 ¢\"\n",
        "16.- Si llamada5 es verdadero:\n",
        "    16.1.- imprime \"Costo de llamada hasta 5 minutos: 1 €\"\n",
        "17.- imprime        \"Costo de llamada:      \" costo \"€\"\n",
        "18.- Si domingo es verdadero:\n",
        "    18.1.- imprime  \"Impuesto de domingo:   \" impuesto \"€\"\n",
        "19.- Si manana es verdadero:\n",
        "    19.1.- imprime  \"Impuesto matutino:     \" impuesto \"€\"\n",
        "20.- Si tarde es verdadero:\n",
        "    20.1.- imprime  \"Impuesto vespertino:   \" impuesto \"€\"\n",
        "21.- imprime        \"Total con inpuesto:    \" costo + impuesto \"€\"\n",
        "22.- Fin\n",
        "```"
      ],
      "metadata": {
        "id": "JFPIU6nP30F7"
      }
    },
    {
      "cell_type": "markdown",
      "source": [
        "### Ejercicio 02. Dados"
      ],
      "metadata": {
        "id": "FsqrvqeU8K2a"
      }
    },
    {
      "cell_type": "code",
      "source": [
        "\"\"\"\n",
        "    Realiza un programa que pida por teclado el resultado (dato entero) obtenido al lanzar un\n",
        "    dado de seis caras y muestre por pantalla el número en letras (dato cadena) de la cara opuesta\n",
        "    al resultado obtenido.\n",
        "\n",
        "    Nota 1: En las caras opuestas de un dado de seis caras están los números: 1-6, 2-5 y 3-4.\n",
        "    Nota 2: Si el número del dado introducido es menor que 1 o mayor que 6, se mostrará el mensaje:\n",
        "            “ERROR: número incorrecto.”.\n",
        "\"\"\"\n",
        "\n",
        "# Definimos una función que recibe un número entero y devuelve el número opuesto\n",
        "def numero_opuesto(numero):\n",
        "    if numero == 1:\n",
        "        return 6\n",
        "    elif numero == 2:\n",
        "        return 5\n",
        "    elif numero == 3:\n",
        "        return 4\n",
        "    elif numero == 4:\n",
        "        return 3\n",
        "    elif numero == 5:\n",
        "        return 2\n",
        "    elif numero == 6:\n",
        "        return 1\n",
        "    else:\n",
        "        return\n",
        "\n",
        "\n",
        "# Solicitamos el número al usuario\n",
        "numero = int(input(\"Introduce un número del 1 al 6: \"))\n",
        "# Comprobamos si el número introducido es válido\n",
        "if numero < 1 or numero > 6:\n",
        "    print(\"ERROR: número incorrecto.\")\n",
        "else:\n",
        "    # Mostramos el número opuesto\n",
        "    print(f\"El número opuesto al {numero} es el {numero_opuesto(numero)}\")\n"
      ],
      "metadata": {
        "colab": {
          "base_uri": "https://localhost:8080/"
        },
        "id": "H1gHkBk18NQL",
        "outputId": "0ec3dc5b-f5ad-4b8b-a66e-4531e371087a"
      },
      "execution_count": 1,
      "outputs": [
        {
          "output_type": "stream",
          "name": "stdout",
          "text": [
            "Introduce un número del 1 al 6: 4\n",
            "El número opuesto al 4 es el 3\n"
          ]
        }
      ]
    },
    {
      "cell_type": "markdown",
      "source": [
        "### Ejercicio 03. Dia semana"
      ],
      "metadata": {
        "id": "QNY36TD09HXA"
      }
    },
    {
      "cell_type": "code",
      "source": [
        "\"\"\"\n",
        "    Realiza un programa que pida el día de la semana (del 1 al 7) y escriba el día\n",
        "    correspondiente. Si introducimos otro número nos da un error.\n",
        "\"\"\"\n",
        "\n",
        "# Definimos una función que recibe un número entero y devuelve el día de la semana\n",
        "def dia_semana(numero):\n",
        "    if numero == 1:\n",
        "        return \"Lunes\"\n",
        "    elif numero == 2:\n",
        "        return \"Martes\"\n",
        "    elif numero == 3:\n",
        "        return \"Miércoles\"\n",
        "    elif numero == 4:\n",
        "        return \"Jueves\"\n",
        "    elif numero == 5:\n",
        "        return \"Viernes\"\n",
        "    elif numero == 6:\n",
        "        return \"Sábado\"\n",
        "    elif numero == 7:\n",
        "        return \"Domingo\"\n",
        "    else:\n",
        "        return\n",
        "\n",
        "# Solicitamos el número al usuario\n",
        "numero = int(input(\"Introduce un número del 1 al 7: \"))\n",
        "# Comprobamos el número introducido\n",
        "if numero < 1 or numero > 7:\n",
        "    print(\"ERROR: número incorrecto.\")\n",
        "else:\n",
        "    # Mostramos el día de la semana\n",
        "    print(f\"El día de la semana correspondiente al {numero} es el {dia_semana(numero)}\")\n"
      ],
      "metadata": {
        "colab": {
          "base_uri": "https://localhost:8080/"
        },
        "id": "rZHgZ0E69Qi3",
        "outputId": "dd000915-f37a-4c14-bfcb-1ded7797ce02"
      },
      "execution_count": 2,
      "outputs": [
        {
          "output_type": "stream",
          "name": "stdout",
          "text": [
            "Introduce un número del 1 al 7: 2\n",
            "El día de la semana correspondiente al 2 es el Martes\n"
          ]
        }
      ]
    },
    {
      "cell_type": "markdown",
      "source": [
        "### Ejercicio 04. Dias mes"
      ],
      "metadata": {
        "id": "HZOlyhNg-PCr"
      }
    },
    {
      "cell_type": "code",
      "source": [
        "\"\"\"\n",
        "    Escribe un programa que pida un número entero entre uno y doce e imprima el número\n",
        "    de días que tiene el mes correspondiente.\n",
        "\"\"\"\n",
        "\n",
        "# Definimos una función que recibe un número entero y devuelve el número de días del mes\n",
        "def dias_mes(numero):\n",
        "    if numero == 1 or numero == 3 or numero == 5 or numero == 7 or numero == 8 or numero == 10 or numero == 12:\n",
        "        return 31\n",
        "    elif numero == 2:\n",
        "        return 28\n",
        "    elif numero == 4 or numero == 6 or numero == 9 or numero == 11:\n",
        "        return 30\n",
        "    else:\n",
        "        return\n",
        "\n",
        "\n",
        "# Solicitamos el número al usuario\n",
        "numero = int(input(\"Introduce un número del 1 al 12: \"))\n",
        "# Comprobamos el número introducido\n",
        "if numero < 1 or numero > 12:\n",
        "    print(\"ERROR: número incorrecto.\")\n",
        "else:\n",
        "    # Mostramos el número de días del mes\n",
        "    print(f\"El mes {numero} tiene {dias_mes(numero)} días\")\n"
      ],
      "metadata": {
        "colab": {
          "base_uri": "https://localhost:8080/"
        },
        "id": "rJtvBQs5-XvJ",
        "outputId": "560eba47-4a88-4cff-f2b0-a10e9f42b818"
      },
      "execution_count": 3,
      "outputs": [
        {
          "output_type": "stream",
          "name": "stdout",
          "text": [
            "Introduce un número del 1 al 12: 2\n",
            "El mes 2 tiene 28 días\n"
          ]
        }
      ]
    },
    {
      "cell_type": "markdown",
      "source": [
        "### Ejercicio 05. Costo envío"
      ],
      "metadata": {
        "id": "TC9Ui3YM-kDb"
      }
    },
    {
      "cell_type": "markdown",
      "source": [
        "```\n",
        "\"\"\"\n",
        "    Una compañía de transporte internacional tiene servicio en algunos países de América del Norte,\n",
        "    América Central, América del Sur, Europa y Asia. El costo por el servicio de transporte se basa\n",
        "    en el peso del paquete y la zona a la que va dirigido. Lo anterior se muestra en la tabla:\n",
        "    Zona / Ubicación / Costo x gramo\n",
        "    1 /América del Norte / 1.00 peso\n",
        "    2 / América Central / 2.00 pesos\n",
        "    3 / América del Sur / 5.00 pesos\n",
        "    4 / Europa / 15.00 pesos\n",
        "    5 / Asia / 18.00 pesos\n",
        "\n",
        "    Parte de su política implica que los paquetes con un peso superior a 5 kg no son transportados,\n",
        "    esto por cuestiones de logística y de seguridad. Realice un algoritmo para determinar el cobro\n",
        "    por la entrega de un paquete o, en su caso, el rechazo de la entrega.\n",
        "\"\"\"\n",
        "\n",
        "1.- Inicio\n",
        "2.- Inicializar variables\n",
        "    2.1.- peso_paquete = 0\n",
        "    2.2.- zona_entrega = 0\n",
        "    2.3.- precio_zona = 0\n",
        "3.- Introduzca el peso del paquete en gramos -> peso_paquete\n",
        "4.- Introduzca la zona de entrega 1-5: -> zona_entrega\n",
        "5.- Si peso_paquete mayor a 5000:\n",
        "    5.1.- imprime \"El peso excede el máximo permitido, no se acepta el paquete\"\n",
        "    5.2.- termina programa\n",
        "6.- Si zona_entrega es inválida (menor a 1 o mayor a 5):\n",
        "    6.1.- imprime \"La zona de entrega no tiene covertura, no se acepta el paquete\"\n",
        "    6.2.- termina el programa\n",
        "7.- Otro caso:\n",
        "    7.1.- Seleccione el precio por zona:\n",
        "        7.1.1.- Si zona_entrega es 1, asigne precio_zona = 1\n",
        "        7.1.2.- Si zona_entrega es 2, asigne precio_zona = 2\n",
        "        7.1.3.- Si zona_entrega es 3, asigne precio_zona = 5\n",
        "        7.1.4.- Si zona_entrega es 4, asigne precio_zona = 15\n",
        "        7.1.5.- Otro caso, asigne precio_zona = 18\n",
        "    7.2.- imprime \"El costo del envío es: \" peso_paquete * precio_zona\n",
        "8.- Fin del programa\n",
        "```"
      ],
      "metadata": {
        "id": "UJbamTA_-q6n"
      }
    }
  ]
}